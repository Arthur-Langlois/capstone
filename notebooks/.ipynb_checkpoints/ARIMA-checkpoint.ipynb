{
 "cells": [
  {
   "cell_type": "code",
   "execution_count": 14,
   "metadata": {
    "ExecuteTime": {
     "end_time": "2022-04-25T21:31:59.067326Z",
     "start_time": "2022-04-25T21:31:59.061091Z"
    }
   },
   "outputs": [],
   "source": [
    "import pandas as pd\n",
    "import numpy as np\n",
    "import matplotlib.pyplot as plt\n",
    "from statsmodels.tsa.stattools import adfuller\n",
    "import statsmodels.api as sm\n",
    "from statsmodels.tsa.arima.model import ARIMA"
   ]
  },
  {
   "cell_type": "code",
   "execution_count": 67,
   "metadata": {
    "ExecuteTime": {
     "end_time": "2022-04-25T22:29:07.713271Z",
     "start_time": "2022-04-25T22:29:06.322728Z"
    },
    "scrolled": true
   },
   "outputs": [
    {
     "data": {
      "image/png": "[encoded data removed]",
      "text/plain": [
       "<Figure size 432x288 with 1 Axes>"
      ]
     },
     "metadata": {
      "needs_background": "light"
     },
     "output_type": "display_data"
    },
    {
     "name": "stdout",
     "output_type": "stream",
     "text": [
      "ADF Statistic:-1.397 and p-value: 0.584\n"
     ]
    },
    {
     "name": "stderr",
     "output_type": "stream",
     "text": [
      "/usr/local/lib/python3.9/site-packages/statsmodels/tsa/base/tsa_model.py:590: ValueWarning: An unsupported index was provided and will be ignored when e.g. forecasting.\n",
      "  warnings.warn('An unsupported index was provided and will be'\n",
      "/usr/local/lib/python3.9/site-packages/statsmodels/tsa/base/tsa_model.py:590: ValueWarning: An unsupported index was provided and will be ignored when e.g. forecasting.\n",
      "  warnings.warn('An unsupported index was provided and will be'\n",
      "/usr/local/lib/python3.9/site-packages/statsmodels/tsa/base/tsa_model.py:590: ValueWarning: An unsupported index was provided and will be ignored when e.g. forecasting.\n",
      "  warnings.warn('An unsupported index was provided and will be'\n",
      "/usr/local/lib/python3.9/site-packages/statsmodels/tsa/base/tsa_model.py:390: ValueWarning: No supported index is available. Prediction results will be given with an integer index beginning at `start`.\n",
      "  warnings.warn('No supported index is available.'\n"
     ]
    }
   ],
   "source": [
    "import pandas as pd\n",
    "import numpy as np\n",
    "import matplotlib.pyplot as plt\n",
    "from statsmodels.tsa.stattools import adfuller\n",
    "import statsmodels.api as sm\n",
    "from statsmodels.tsa.arima.model import ARIMA\n",
    "import xgboost as xgb\n",
    "\n",
    "#function to check stationarity with Adfuller test\n",
    "def get_adfuller(series, transformation = False):    \n",
    "    #calculate the 2 years rolling means (average of t-2 for each t)\n",
    "    moving_avg = series.rolling(window = 2).mean()\n",
    "    moving_std = series.rolling(window = 2).std()\n",
    "    orig = plt.plot(series, color = 'black', label = 'Original')\n",
    "    mean = plt.plot(moving_avg, color = 'red', label = 'Mean')\n",
    "    std = plt.plot(moving_std, color = 'blue', label = 'Std')\n",
    "    plt.legend(loc = 'best')    \n",
    "    if transformation == False:\n",
    "        plt.title('Before Transformation')        \n",
    "    else:\n",
    "        plt.title('After Transformation')        \n",
    "    plt.show(block = False) \n",
    "    result = adfuller(series, autolag = 'AIC')\n",
    "    print(f'ADF Statistic:{round(result[0],3)} and p-value: {round(result[1],3)}')\n",
    "\n",
    "#function to make data stationary by taking logarithm of data inputed\n",
    "def get_stationary(data):    \n",
    "    return np.log(data)\n",
    "\n",
    "#function to get prediction for inputed model\n",
    "def get_prediction(name, model):\n",
    "    result = model.fit()\n",
    "    if name == 'ARIMA':\n",
    "        return list(result.forecast(steps=3))\n",
    "   # elif name == 'XGBoost':\n",
    "        #return list(result.predict(X_test))\n",
    "    \n",
    "def get_plot_predictions(inp):\n",
    "    plt.plot()\n",
    "\n",
    "df = pd.read_excel('../data/cdc_suicide.xlsx', index_col=4)\n",
    "#Only keep ages between 5-24 years old\n",
    "df = df[(df['Ten-Year Age Groups'] == '5-14 years') | (df['Ten-Year Age Groups'] == '15-24 years')]\n",
    "#group data by average yearly deaths\n",
    "df = df.groupby('Year')['Deaths'].mean()\n",
    "#convert the series back to a dataframe\n",
    "df = pd.DataFrame(df)\n",
    "\n",
    "#get adfuller tests with untransformed data\n",
    "get_adfuller(df['Deaths'])\n",
    "\n",
    "#transform data with get_stationary function above\n",
    "data_transformed = get_stationary(df['Deaths'])\n",
    "data = df['Deaths']\n",
    "\n",
    "#insert string of model used and its model parameters within the same tuple\n",
    "models = [\n",
    "        ('ARIMA', ARIMA(data, order = (1,1,2))),\n",
    "    #('XGBoost', xgb.XGBRegressor(n_estimators=1000))\n",
    "       # example: ('SARIMAX', SARIMAX(args))\n",
    "         ]\n",
    "#iterate through the models variables to get a prediction for 2019,2019,2020 for each of those models \n",
    "#then append result to the preds variable\n",
    "preds = []\n",
    "for i in models:\n",
    "    preds.append(tuple([get_prediction(i[0],i[1]), i[0]]))    "
   ]
  },
  {
   "cell_type": "code",
   "execution_count": 68,
   "metadata": {
    "ExecuteTime": {
     "end_time": "2022-04-25T22:29:13.088726Z",
     "start_time": "2022-04-25T22:29:13.083550Z"
    }
   },
   "outputs": [
    {
     "data": {
      "text/plain": [
       "[([60.94542955487797, 60.70586002467915, 60.74384829332776], 'ARIMA')]"
      ]
     },
     "execution_count": 68,
     "metadata": {},
     "output_type": "execute_result"
    }
   ],
   "source": [
    "ind = [2018,2019,2020]\n",
    "updated_preds = []\n",
    "for i in preds:\n",
    "    updated_preds = pd.Series(preds[0][0], ind)"
   ]
  },
  {
   "cell_type": "code",
   "execution_count": 73,
   "metadata": {
    "ExecuteTime": {
     "end_time": "2022-04-25T22:30:27.187683Z",
     "start_time": "2022-04-25T22:30:27.089537Z"
    }
   },
   "outputs": [
    {
     "data": {
      "image/png": "[encoded data removed]",
      "text/plain": [
       "<Figure size 432x288 with 1 Axes>"
      ]
     },
     "metadata": {
      "needs_background": "light"
     },
     "output_type": "display_data"
    }
   ],
   "source": [
    "def get_plot_predictions(inp, pre_data):\n",
    "    plt.plot(inp)\n",
    "    plt.plot(pre_data)\n",
    "    plt.xlim([2015,2019])\n",
    "\n",
    "ind = [2018,2019,2020]\n",
    "s = pd.Series(preds[0][0], ind)\n",
    "get_plot_predictions(s, data)"
   ]
  },
  {
   "cell_type": "markdown",
   "metadata": {
    "heading_collapsed": true
   },
   "source": [
    "# Arthur's modifs"
   ]
  },
  {
   "cell_type": "code",
   "execution_count": null,
   "metadata": {
    "hidden": true
   },
   "outputs": [],
   "source": []
  },
  {
   "cell_type": "code",
   "execution_count": null,
   "metadata": {
    "ExecuteTime": {
     "end_time": "2022-04-25T21:00:19.295880Z",
     "start_time": "2022-04-25T21:00:17.717414Z"
    },
    "hidden": true,
    "scrolled": false
   },
   "outputs": [],
   "source": [
    "df = pd.read_excel('../data/cdc_suicide.xlsx', index_col=4)\n",
    "df = df[(df['Ten-Year Age Groups'] == '5-14 years') | (df['Ten-Year Age Groups'] == '15-24 years')]\n",
    "df = df.groupby('Year')['Deaths'].mean()\n",
    "df = pd.DataFrame(df)\n",
    "\n",
    "#checking stationarity with Adfuller test\n",
    "result = adfuller(df['Deaths'])\n",
    "print(\"ADFULLER TEST: \\n\")\n",
    "print('ADF Statistic: %f' % result[0])\n",
    "print('p-value: %f' % result[1])\n",
    "\n",
    "#make data stationary\n",
    "# Original Series\n",
    "plt.rcParams.update({'figure.figsize':(9,7), 'figure.dpi':120})\n",
    "fig, axes = plt.subplots(2, 2, sharex=True)\n",
    "axes[0, 0].plot(df.Deaths); axes[0, 0].set_title('Original Series')\n",
    "plt.xlim([2000,2020])\n",
    "plot_acf(df.Deaths, ax=axes[0, 1])\n",
    "\n",
    "# 1st Differencing\n",
    "axes[1, 0].plot(df.Deaths.diff()); axes[1, 0].set_title('1st Order Differencing')\n",
    "plot_acf(df.Deaths.diff().dropna(), ax=axes[1, 1])\n",
    "\n",
    "plt.show()\n",
    "\n",
    "\n",
    "\n",
    "# model = sm.tsa.arima.ARIMA(suicide['Deaths'], order=(1,1,2))\n",
    "# result = model.fit()\n",
    "# result.plot_predict(dynamic=False)\n"
   ]
  },
  {
   "cell_type": "code",
   "execution_count": null,
   "metadata": {
    "hidden": true
   },
   "outputs": [],
   "source": []
  },
  {
   "cell_type": "markdown",
   "metadata": {
    "heading_collapsed": true
   },
   "source": [
    "# Dania's"
   ]
  },
  {
   "cell_type": "code",
   "execution_count": null,
   "metadata": {
    "ExecuteTime": {
     "end_time": "2022-04-22T17:29:01.068917Z",
     "start_time": "2022-04-22T17:28:59.578593Z"
    },
    "hidden": true
   },
   "outputs": [],
   "source": [
    "df = pd.read_excel('../data/cdc_suicide.xlsx', index_col=4)\n",
    "suicide = df[(df['Ten-Year Age Groups'] == '5-14 years') | (df['Ten-Year Age Groups'] == '15-24 years')]\n",
    "series = suicide.groupby('Year')['Deaths'].mean()\n",
    "series.plot()\n",
    "series.head()"
   ]
  },
  {
   "cell_type": "code",
   "execution_count": null,
   "metadata": {
    "hidden": true
   },
   "outputs": [],
   "source": [
    "timeseries = series\n",
    "timeseries.rolling(2).mean().plot(label='rolling mean')\n",
    "timeseries.rolling(2).std().plot(label='rolling std')\n",
    "timeseries.plot()\n",
    "plt.legend()"
   ]
  },
  {
   "cell_type": "code",
   "execution_count": null,
   "metadata": {
    "hidden": true
   },
   "outputs": [],
   "source": [
    "from statsmodels.tsa.stattools import adfuller\n",
    "\n",
    "def check_adf(time_series):\n",
    "    test_result = adfuller(time_series)\n",
    "    print ('ADF Test:')\n",
    "    labels = ['ADF Statistic','p-value','No. of Lags Used','Number of Observations Used']\n",
    "    for value,label in zip(test_result,labels):\n",
    "        print(label+':'+str(value))\n",
    "    if test_result[1] <= 0.05:\n",
    "        print (\"Reject null hypothesis and data is stationary\")\n",
    "    else:\n",
    "        print (\"Fail to reject H0 thereby data is non-stationary \")\n",
    "        \n",
    "check_adf(series)"
   ]
  },
  {
   "cell_type": "code",
   "execution_count": null,
   "metadata": {
    "hidden": true
   },
   "outputs": [],
   "source": [
    "#something = series['Deaths First Difference']\n",
    "suicide['Deaths First Difference'] = suicide['Deaths'] - suicide['Deaths'].shift(1)\n",
    "print(suicide['Deaths First Difference'])\n",
    "check_adf(suicide['Deaths First Difference'].dropna()) #['Deaths First Difference'].dropna())\n",
    "suicide['Deaths First Difference'].plot()"
   ]
  },
  {
   "cell_type": "code",
   "execution_count": null,
   "metadata": {
    "hidden": true
   },
   "outputs": [],
   "source": [
    "# suicide = pd.read_excel('../data/cdc_suicide.xlsx', index_col=4)\n",
    "# print(suicide)\n",
    "# suicide['Year'] = pd.to_datetime(suicide['Year'], infer_datetime_format=True)\n",
    "# indexedSuicide = suicide.set_index(['Year'])"
   ]
  },
  {
   "cell_type": "code",
   "execution_count": null,
   "metadata": {
    "hidden": true
   },
   "outputs": [],
   "source": [
    "suicide = pd.read_excel('../data/cdc_suicide.xlsx', index_col=4)\n",
    "series = suicide.groupby('Year')['Deaths'].mean()\n",
    "model = ARIMA(series, order=(1,1,1))\n",
    "model_fit = model.fit(disp=0)\n",
    "#print(model_fit.summary())\n",
    "model_fit.plot_predict(dynamic=False)"
   ]
  },
  {
   "cell_type": "code",
   "execution_count": null,
   "metadata": {
    "hidden": true
   },
   "outputs": [],
   "source": [
    "suicide = pd.read_excel('../data/cdc_suicide.xlsx', index_col=4)\n",
    "#series = suicide.groupby('Year')['Deaths'].mean()\n",
    "#print(series)\n",
    "\n",
    "#df = suicide[['State', 'Year','Ten-Year Age Groups', 'Gender', 'Crude Rate', 'Population','Deaths']]\n",
    "\n",
    "#df = df[(df['Ten-Year Age Groups'] == '5-14 years') | (df['Ten-Year Age Groups'] == '5-14 years')]\n",
    "\n",
    "# print(suicide[suicide['Ten-Year Age Groups'] == '5-14 years'])\n",
    "\n",
    "suicide = suicide[(suicide['Ten-Year Age Groups'] == '5-14 years') | (suicide['Ten-Year Age Groups'] == '15-24 years')]\n",
    "series = suicide.groupby('Year')['Deaths'].mean()\n",
    "result = adfuller(series)\n",
    "#result = adfuller(suicide['Deaths'])\n",
    "print('ADF Statistic: %f' % result[0])\n",
    "print('p-value: %f' % result[1])"
   ]
  },
  {
   "cell_type": "code",
   "execution_count": null,
   "metadata": {
    "hidden": true
   },
   "outputs": [],
   "source": [
    "suicide = pd.read_excel('../data/cdc_suicide.xlsx', index_col=4)\n",
    "\n",
    "class(dat$suicide)"
   ]
  },
  {
   "cell_type": "code",
   "execution_count": null,
   "metadata": {
    "hidden": true
   },
   "outputs": [],
   "source": [
    "from statsmodels.tsa.arima_model import ARIMA\n",
    "\n",
    "model = ARIMA(suicide.groupby('Year')['Deaths'].mean(), order=(1,0,1))\n",
    "model_fit = model.fit(disp=0)\n",
    "print(model_fit.summary())"
   ]
  },
  {
   "cell_type": "code",
   "execution_count": null,
   "metadata": {
    "hidden": true
   },
   "outputs": [],
   "source": [
    "from statsmodels.graphics.tsaplots import plot_acf, plot_pacf\n",
    "# PACF plot of 1st differenced series\n",
    "plt.rcParams.update({'figure.figsize':(9,3), 'figure.dpi':120})\n",
    "\n",
    "fig, axes = plt.subplots(1, 2, sharex=True)\n",
    "axes[0].plot(suicide.diff()); axes[0].set_title('1st Differencing')\n",
    "axes[1].set(ylim=(0,5))\n",
    "plot_pacf(suicide.diff().dropna(), ax=axes[1])\n",
    "\n",
    "plt.show()"
   ]
  }
 ],
 "metadata": {
  "interpreter": {
   "hash": "ac59ebe37160ed0dfa835113d9b8498d9f09ceb179beaac4002f036b9467c963"
  },
  "kernelspec": {
   "display_name": "Python 3 (ipykernel)",
   "language": "python",
   "name": "python3"
  },
  "language_info": {
   "codemirror_mode": {
    "name": "ipython",
    "version": 3
   },
   "file_extension": ".py",
   "mimetype": "text/x-python",
   "name": "python",
   "nbconvert_exporter": "python",
   "pygments_lexer": "ipython3",
   "version": "3.9.10"
  },
  "toc": {
   "base_numbering": 1,
   "nav_menu": {},
   "number_sections": true,
   "sideBar": true,
   "skip_h1_title": false,
   "title_cell": "Table of Contents",
   "title_sidebar": "Contents",
   "toc_cell": false,
   "toc_position": {},
   "toc_section_display": true,
   "toc_window_display": false
  },
  "varInspector": {
   "cols": {
    "lenName": 16,
    "lenType": 16,
    "lenVar": 40
   },
   "kernels_config": {
    "python": {
     "delete_cmd_postfix": "",
     "delete_cmd_prefix": "del ",
     "library": "var_list.py",
     "varRefreshCmd": "print(var_dic_list())"
    },
    "r": {
     "delete_cmd_postfix": ") ",
     "delete_cmd_prefix": "rm(",
     "library": "var_list.r",
     "varRefreshCmd": "cat(var_dic_list()) "
    }
   },
   "types_to_exclude": [
    "module",
    "function",
    "builtin_function_or_method",
    "instance",
    "_Feature"
   ],
   "window_display": false
  }
 },
 "nbformat": 4,
 "nbformat_minor": 2
}
