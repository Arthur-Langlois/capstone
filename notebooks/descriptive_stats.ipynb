{
 "cells": [
  {
   "cell_type": "code",
   "execution_count": 24,
   "metadata": {},
   "outputs": [],
   "source": [
    "import pandas as pd\n",
    "import numpy as np\n",
    "import datetime as dt\n",
    "import matplotlib.pyplot as plt\n",
    "import functools\n",
    "import seaborn as sns\n",
    "from statsmodels.tsa.arima_model import ARIMA\n",
    "from statsmodels.tsa.stattools import adfuller\n",
    "from statsmodels.tsa.seasonal import seasonal_decompose\n",
    "#from statsmodels.tsa.arima_model import ARIMA"
   ]
  },
  {
   "cell_type": "code",
   "execution_count": 14,
   "metadata": {},
   "outputs": [
    {
     "data": {
      "text/plain": [
       "Text(0, 0.5, 'Suicide Count')"
      ]
     },
     "execution_count": 14,
     "metadata": {},
     "output_type": "execute_result"
    },
    {
     "data": {
      "image/png": "[encoded data removed]",
      "text/plain": [
       "<Figure size 432x288 with 1 Axes>"
      ]
     },
     "metadata": {
      "needs_background": "light"
     },
     "output_type": "display_data"
    }
   ],
   "source": [
    "suicide = pd.read_excel('../data/cdc_suicide.xlsx', index_col=4)\n",
    "suicide.groupby('Year')['Deaths'].mean().plot()  #setup the title and labels of the figure.\n",
    "plt.title(\"Year vs. Suicide Count\",fontsize = 14) \n",
    "plt.xlabel('Year',fontsize = 13)\n",
    "plt.ylabel('Suicide Count',fontsize = 13)"
   ]
  },
  {
   "cell_type": "code",
   "execution_count": 2,
   "metadata": {},
   "outputs": [
    {
     "data": {
      "image/png": "[encoded data removed]",
      "text/plain": [
       "<Figure size 432x288 with 1 Axes>"
      ]
     },
     "metadata": {
      "needs_background": "light"
     },
     "output_type": "display_data"
    }
   ],
   "source": [
    "suicide = pd.read_excel('../data/cdc_suicide.xlsx', index_col=4)\n",
    "autocorr_plot = pd.plotting.autocorrelation_plot(suicide.groupby('Year')['Deaths'].mean())"
   ]
  },
  {
   "cell_type": "code",
   "execution_count": 5,
   "metadata": {},
   "outputs": [
    {
     "data": {
      "text/html": [
       "<div>\n",
       "<style scoped>\n",
       "    .dataframe tbody tr th:only-of-type {\n",
       "        vertical-align: middle;\n",
       "    }\n",
       "\n",
       "    .dataframe tbody tr th {\n",
       "        vertical-align: top;\n",
       "    }\n",
       "\n",
       "    .dataframe thead th {\n",
       "        text-align: right;\n",
       "    }\n",
       "</style>\n",
       "<table border=\"1\" class=\"dataframe\">\n",
       "  <thead>\n",
       "    <tr style=\"text-align: right;\">\n",
       "      <th></th>\n",
       "      <th>State</th>\n",
       "      <th>State Code</th>\n",
       "      <th>Ten-Year Age Groups</th>\n",
       "      <th>Ten-Year Age Groups Code</th>\n",
       "      <th>Year Code</th>\n",
       "      <th>Gender</th>\n",
       "      <th>Gender Code</th>\n",
       "      <th>Deaths</th>\n",
       "      <th>Population</th>\n",
       "      <th>Crude Rate</th>\n",
       "    </tr>\n",
       "    <tr>\n",
       "      <th>Year</th>\n",
       "      <th></th>\n",
       "      <th></th>\n",
       "      <th></th>\n",
       "      <th></th>\n",
       "      <th></th>\n",
       "      <th></th>\n",
       "      <th></th>\n",
       "      <th></th>\n",
       "      <th></th>\n",
       "      <th></th>\n",
       "    </tr>\n",
       "  </thead>\n",
       "  <tbody>\n",
       "    <tr>\n",
       "      <th>2017</th>\n",
       "      <td>Alabama</td>\n",
       "      <td>1</td>\n",
       "      <td>5-14 years</td>\n",
       "      <td>2022-05-14 00:00:00</td>\n",
       "      <td>2017</td>\n",
       "      <td>Male</td>\n",
       "      <td>M</td>\n",
       "      <td>11</td>\n",
       "      <td>311004</td>\n",
       "      <td>Unreliable</td>\n",
       "    </tr>\n",
       "    <tr>\n",
       "      <th>2019</th>\n",
       "      <td>Alabama</td>\n",
       "      <td>1</td>\n",
       "      <td>5-14 years</td>\n",
       "      <td>2022-05-14 00:00:00</td>\n",
       "      <td>2019</td>\n",
       "      <td>Male</td>\n",
       "      <td>M</td>\n",
       "      <td>10</td>\n",
       "      <td>310145</td>\n",
       "      <td>Unreliable</td>\n",
       "    </tr>\n",
       "    <tr>\n",
       "      <th>1999</th>\n",
       "      <td>Alabama</td>\n",
       "      <td>1</td>\n",
       "      <td>15-24 years</td>\n",
       "      <td>15-24</td>\n",
       "      <td>1999</td>\n",
       "      <td>Female</td>\n",
       "      <td>F</td>\n",
       "      <td>13</td>\n",
       "      <td>316324</td>\n",
       "      <td>Unreliable</td>\n",
       "    </tr>\n",
       "    <tr>\n",
       "      <th>1999</th>\n",
       "      <td>Alabama</td>\n",
       "      <td>1</td>\n",
       "      <td>15-24 years</td>\n",
       "      <td>15-24</td>\n",
       "      <td>1999</td>\n",
       "      <td>Male</td>\n",
       "      <td>M</td>\n",
       "      <td>76</td>\n",
       "      <td>317647</td>\n",
       "      <td>23.9</td>\n",
       "    </tr>\n",
       "    <tr>\n",
       "      <th>2000</th>\n",
       "      <td>Alabama</td>\n",
       "      <td>1</td>\n",
       "      <td>15-24 years</td>\n",
       "      <td>15-24</td>\n",
       "      <td>2000</td>\n",
       "      <td>Male</td>\n",
       "      <td>M</td>\n",
       "      <td>63</td>\n",
       "      <td>316220</td>\n",
       "      <td>19.9</td>\n",
       "    </tr>\n",
       "  </tbody>\n",
       "</table>\n",
       "</div>"
      ],
      "text/plain": [
       "        State  State Code Ten-Year Age Groups Ten-Year Age Groups Code  \\\n",
       "Year                                                                     \n",
       "2017  Alabama           1          5-14 years      2022-05-14 00:00:00   \n",
       "2019  Alabama           1          5-14 years      2022-05-14 00:00:00   \n",
       "1999  Alabama           1         15-24 years                    15-24   \n",
       "1999  Alabama           1         15-24 years                    15-24   \n",
       "2000  Alabama           1         15-24 years                    15-24   \n",
       "\n",
       "      Year Code  Gender Gender Code  Deaths  Population  Crude Rate  \n",
       "Year                                                                 \n",
       "2017       2017    Male           M      11      311004  Unreliable  \n",
       "2019       2019    Male           M      10      310145  Unreliable  \n",
       "1999       1999  Female           F      13      316324  Unreliable  \n",
       "1999       1999    Male           M      76      317647        23.9  \n",
       "2000       2000    Male           M      63      316220        19.9  "
      ]
     },
     "execution_count": 5,
     "metadata": {},
     "output_type": "execute_result"
    }
   ],
   "source": [
    "suicide.head()\n",
    "#suicide.info()"
   ]
  },
  {
   "cell_type": "code",
   "execution_count": 28,
   "metadata": {},
   "outputs": [
    {
     "data": {
      "image/png": "[encoded data removed]",
      "text/plain": [
       "<Figure size 432x288 with 1 Axes>"
      ]
     },
     "metadata": {
      "needs_background": "light"
     },
     "output_type": "display_data"
    }
   ],
   "source": [
    "suicide = pd.read_excel('../data/cdc_suicide.xlsx', index_col=0)\n",
    "series = suicide.groupby('Year')['Deaths'].mean()\n",
    "\n",
    "rolling_mean = series.rolling(window=5).mean()\n",
    "rolling_std = series.rolling(window=5).std()\n",
    "plt.plot(series, color = 'blue', label = 'Original')\n",
    "plt.plot(rolling_mean, color = 'red', label = 'Rolling Mean')\n",
    "plt.plot(rolling_std, color = 'black', label = 'Rolling Std')\n",
    "plt.legend(loc = 'best')\n",
    "plt.title('Rolling Mean & Rolling Standard Deviation')\n",
    "plt.show()\n",
    "# rolling mean and rolling std increase with time, thus the time series is not stationary"
   ]
  },
  {
   "cell_type": "code",
   "execution_count": 8,
   "metadata": {},
   "outputs": [
    {
     "name": "stdout",
     "output_type": "stream",
     "text": [
      "ADF Statistic: -3.3075414646810577\n",
      "p-value: 0.014544717949389545\n",
      "Critical Values:\n",
      "\t1%: -3.4308685627010562\n",
      "\t5%: -2.86176917909594\n",
      "\t10%: -2.566891987053574\n"
     ]
    }
   ],
   "source": [
    "suicide = pd.read_excel('../data/cdc_suicide.xlsx', index_col=0)\n",
    "result = adfuller(suicide['Deaths'])\n",
    "print('ADF Statistic: {}'.format(result[0]))\n",
    "print('p-value: {}'.format(result[1]))\n",
    "print('Critical Values:')\n",
    "for key, value in result[4].items():\n",
    "    print('\\t{}: {}'.format(key, value))\n",
    "# The ADF Statistic is far from the critical values and the p-value is greater\n",
    "# than the threshold (0.05). Thus, we can conclude that the time series is not stationary."
   ]
  },
  {
   "cell_type": "code",
   "execution_count": 56,
   "metadata": {},
   "outputs": [
    {
     "name": "stdout",
     "output_type": "stream",
     "text": [
      "ADF test statistic: -3.3075414646810577\n",
      "p-value: 0.014544717949389545\n",
      "Critical thresholds:\n",
      "\t1%: -3.4308685627010562\n",
      "\t5%: -2.86176917909594\n",
      "\t10%: -2.566891987053574\n"
     ]
    }
   ],
   "source": [
    "test_results = adfuller(suicide[\"Deaths\"])\n",
    "\n",
    "print(f\"ADF test statistic: {test_results[0]}\")\n",
    "print(f\"p-value: {test_results[1]}\")\n",
    "print(\"Critical thresholds:\")\n",
    "\n",
    "for key, value in test_results[4].items():\n",
    "    print(f\"\\t{key}: {value}\")"
   ]
  },
  {
   "cell_type": "code",
   "execution_count": 54,
   "metadata": {},
   "outputs": [
    {
     "data": {
      "text/plain": [
       "<matplotlib.axes._subplots.AxesSubplot at 0x1e54a73edd8>"
      ]
     },
     "execution_count": 54,
     "metadata": {},
     "output_type": "execute_result"
    },
    {
     "data": {
      "image/png": "[encoded data removed]",
      "text/plain": [
       "<Figure size 432x288 with 1 Axes>"
      ]
     },
     "metadata": {
      "needs_background": "light"
     },
     "output_type": "display_data"
    }
   ],
   "source": [
    "series = suicide.groupby('Year')['Deaths'].mean()\n",
    "series.plot()"
   ]
  },
  {
   "cell_type": "code",
   "execution_count": 31,
   "metadata": {},
   "outputs": [
    {
     "data": {
      "text/plain": [
       "[<matplotlib.lines.Line2D at 0x1e5478ccb38>]"
      ]
     },
     "execution_count": 31,
     "metadata": {},
     "output_type": "execute_result"
    },
    {
     "data": {
      "image/png": "[encoded data removed]",
      "text/plain": [
       "<Figure size 432x288 with 1 Axes>"
      ]
     },
     "metadata": {
      "needs_background": "light"
     },
     "output_type": "display_data"
    }
   ],
   "source": [
    "# Taking the log of the dependent variable is as simple way of lowering\n",
    "# the rate at which rolling mean increases.\n",
    "series_log = np.log(series)\n",
    "plt.plot(series_log)"
   ]
  },
  {
   "cell_type": "code",
   "execution_count": 41,
   "metadata": {},
   "outputs": [],
   "source": [
    "def get_stationarity(timeseries):\n",
    "    # rolling statistics plot\n",
    "    rolling_mean = timeseries.rolling(window=5).mean()\n",
    "    rolling_std = timeseries.rolling(window=5).std()\n",
    "    plt.plot(timeseries, color = 'blue', label = 'Original')\n",
    "    plt.plot(rolling_mean, color = 'red', label = 'Rolling Mean')\n",
    "    plt.plot(rolling_std, color = 'black', label = 'Rolling Std')\n",
    "    plt.legend(loc = 'best')\n",
    "    plt.title('Rolling Mean & Rolling Standard Deviation')\n",
    "    plt.show()\n",
    "    # Dickey-Fuller test:\n",
    "    result = adfuller(timeseries)\n",
    "    print('ADF Statistic: {}'.format(result[0]))\n",
    "    print('p-value: {}'.format(result[1]))\n",
    "    print('Critical Values:')\n",
    "    for key, value in result[4].items():\n",
    "        print('\\t{}: {}'.format(key, value))\n",
    "    "
   ]
  },
  {
   "cell_type": "code",
   "execution_count": 45,
   "metadata": {},
   "outputs": [
    {
     "data": {
      "image/png": "[encoded data removed]",
      "text/plain": [
       "<Figure size 432x288 with 1 Axes>"
      ]
     },
     "metadata": {
      "needs_background": "light"
     },
     "output_type": "display_data"
    },
    {
     "name": "stdout",
     "output_type": "stream",
     "text": [
      "ADF Statistic: -1.3805098444426602\n",
      "p-value: 0.5915834604444802\n",
      "Critical Values:\n",
      "\t1%: -4.01203360058309\n",
      "\t5%: -3.1041838775510207\n",
      "\t10%: -2.6909873469387753\n"
     ]
    }
   ],
   "source": [
    "rolling_mean = series_log.rolling(window=5).mean()\n",
    "series_log_minus_mean = series_log - rolling_mean \n",
    "series_log_minus_mean.dropna(inplace=True)\n",
    "get_stationarity(series_log_minus_mean)"
   ]
  },
  {
   "cell_type": "code",
   "execution_count": 48,
   "metadata": {},
   "outputs": [
    {
     "name": "stdout",
     "output_type": "stream",
     "text": [
      "ADF Statistic: 1.212927\n",
      "p-value: 0.996074\n"
     ]
    }
   ],
   "source": [
    "result = adfuller(series.dropna())\n",
    "print('ADF Statistic: %f' % result[0])\n",
    "print('p-value: %f' % result[1])"
   ]
  },
  {
   "cell_type": "code",
   "execution_count": 49,
   "metadata": {},
   "outputs": [
    {
     "data": {
      "image/png": "[encoded data removed]",
      "text/plain": [
       "<Figure size 432x288 with 6 Axes>"
      ]
     },
     "metadata": {
      "needs_background": "light"
     },
     "output_type": "display_data"
    }
   ],
   "source": [
    "from statsmodels.graphics.tsaplots import plot_acf, plot_pacf\n",
    "# Original Series\n",
    "fig, axes = plt.subplots(3, 2, sharex=True)\n",
    "axes[0, 0].plot(series); axes[0, 0].set_title('Original Series')\n",
    "plot_acf(series, ax=axes[0, 1])\n",
    "\n",
    "# 1st Differencing\n",
    "axes[1, 0].plot(series.diff()); axes[1, 0].set_title('1st Order Differencing')\n",
    "plot_acf(series.diff().dropna(), ax=axes[1, 1])\n",
    "\n",
    "# 2nd Differencing\n",
    "axes[2, 0].plot(series.diff().diff()); axes[2, 0].set_title('2nd Order Differencing')\n",
    "plot_acf(series.diff().diff().dropna(), ax=axes[2, 1])\n",
    "\n",
    "plt.show()"
   ]
  },
  {
   "cell_type": "code",
   "execution_count": 11,
   "metadata": {},
   "outputs": [
    {
     "data": {
      "text/html": [
       "<div>\n",
       "<style scoped>\n",
       "    .dataframe tbody tr th:only-of-type {\n",
       "        vertical-align: middle;\n",
       "    }\n",
       "\n",
       "    .dataframe tbody tr th {\n",
       "        vertical-align: top;\n",
       "    }\n",
       "\n",
       "    .dataframe thead th {\n",
       "        text-align: right;\n",
       "    }\n",
       "</style>\n",
       "<table border=\"1\" class=\"dataframe\">\n",
       "  <thead>\n",
       "    <tr style=\"text-align: right;\">\n",
       "      <th></th>\n",
       "      <th>State</th>\n",
       "      <th>State Code</th>\n",
       "      <th>Ten-Year Age Groups</th>\n",
       "      <th>Ten-Year Age Groups Code</th>\n",
       "      <th>Year Code</th>\n",
       "      <th>Gender</th>\n",
       "      <th>Gender Code</th>\n",
       "      <th>Deaths</th>\n",
       "      <th>Population</th>\n",
       "      <th>Crude Rate</th>\n",
       "    </tr>\n",
       "    <tr>\n",
       "      <th>Year</th>\n",
       "      <th></th>\n",
       "      <th></th>\n",
       "      <th></th>\n",
       "      <th></th>\n",
       "      <th></th>\n",
       "      <th></th>\n",
       "      <th></th>\n",
       "      <th></th>\n",
       "      <th></th>\n",
       "      <th></th>\n",
       "    </tr>\n",
       "  </thead>\n",
       "  <tbody>\n",
       "    <tr>\n",
       "      <th>2017</th>\n",
       "      <td>Alabama</td>\n",
       "      <td>1</td>\n",
       "      <td>5-14 years</td>\n",
       "      <td>2022-05-14 00:00:00</td>\n",
       "      <td>2017</td>\n",
       "      <td>Male</td>\n",
       "      <td>M</td>\n",
       "      <td>11</td>\n",
       "      <td>311004</td>\n",
       "      <td>Unreliable</td>\n",
       "    </tr>\n",
       "    <tr>\n",
       "      <th>2019</th>\n",
       "      <td>Alabama</td>\n",
       "      <td>1</td>\n",
       "      <td>5-14 years</td>\n",
       "      <td>2022-05-14 00:00:00</td>\n",
       "      <td>2019</td>\n",
       "      <td>Male</td>\n",
       "      <td>M</td>\n",
       "      <td>10</td>\n",
       "      <td>310145</td>\n",
       "      <td>Unreliable</td>\n",
       "    </tr>\n",
       "    <tr>\n",
       "      <th>1999</th>\n",
       "      <td>Alabama</td>\n",
       "      <td>1</td>\n",
       "      <td>15-24 years</td>\n",
       "      <td>15-24</td>\n",
       "      <td>1999</td>\n",
       "      <td>Female</td>\n",
       "      <td>F</td>\n",
       "      <td>13</td>\n",
       "      <td>316324</td>\n",
       "      <td>Unreliable</td>\n",
       "    </tr>\n",
       "    <tr>\n",
       "      <th>1999</th>\n",
       "      <td>Alabama</td>\n",
       "      <td>1</td>\n",
       "      <td>15-24 years</td>\n",
       "      <td>15-24</td>\n",
       "      <td>1999</td>\n",
       "      <td>Male</td>\n",
       "      <td>M</td>\n",
       "      <td>76</td>\n",
       "      <td>317647</td>\n",
       "      <td>23.9</td>\n",
       "    </tr>\n",
       "    <tr>\n",
       "      <th>2000</th>\n",
       "      <td>Alabama</td>\n",
       "      <td>1</td>\n",
       "      <td>15-24 years</td>\n",
       "      <td>15-24</td>\n",
       "      <td>2000</td>\n",
       "      <td>Male</td>\n",
       "      <td>M</td>\n",
       "      <td>63</td>\n",
       "      <td>316220</td>\n",
       "      <td>19.9</td>\n",
       "    </tr>\n",
       "  </tbody>\n",
       "</table>\n",
       "</div>"
      ],
      "text/plain": [
       "        State  State Code Ten-Year Age Groups Ten-Year Age Groups Code  \\\n",
       "Year                                                                     \n",
       "2017  Alabama           1          5-14 years      2022-05-14 00:00:00   \n",
       "2019  Alabama           1          5-14 years      2022-05-14 00:00:00   \n",
       "1999  Alabama           1         15-24 years                    15-24   \n",
       "1999  Alabama           1         15-24 years                    15-24   \n",
       "2000  Alabama           1         15-24 years                    15-24   \n",
       "\n",
       "      Year Code  Gender Gender Code  Deaths  Population  Crude Rate  \n",
       "Year                                                                 \n",
       "2017       2017    Male           M      11      311004  Unreliable  \n",
       "2019       2019    Male           M      10      310145  Unreliable  \n",
       "1999       1999  Female           F      13      316324  Unreliable  \n",
       "1999       1999    Male           M      76      317647        23.9  \n",
       "2000       2000    Male           M      63      316220        19.9  "
      ]
     },
     "execution_count": 11,
     "metadata": {},
     "output_type": "execute_result"
    }
   ],
   "source": [
    "suicide = pd.read_excel('../data/cdc_suicide.xlsx', index_col=4)\n",
    "suicide.head()"
   ]
  },
  {
   "cell_type": "code",
   "execution_count": 26,
   "metadata": {},
   "outputs": [
    {
     "ename": "ValueError",
     "evalue": "not enough values to unpack (expected 3, got 1)",
     "output_type": "error",
     "traceback": [
      "\u001b[1;31m---------------------------------------------------------------------------\u001b[0m",
      "\u001b[1;31mValueError\u001b[0m                                Traceback (most recent call last)",
      "\u001b[1;32m<ipython-input-26-b0984d7db75e>\u001b[0m in \u001b[0;36m<module>\u001b[1;34m\u001b[0m\n\u001b[0;32m      1\u001b[0m \u001b[0msuicide\u001b[0m \u001b[1;33m=\u001b[0m \u001b[0mpd\u001b[0m\u001b[1;33m.\u001b[0m\u001b[0mread_excel\u001b[0m\u001b[1;33m(\u001b[0m\u001b[1;34m'../data/cdc_suicide.xlsx'\u001b[0m\u001b[1;33m,\u001b[0m \u001b[0mindex_col\u001b[0m\u001b[1;33m=\u001b[0m\u001b[1;36m4\u001b[0m\u001b[1;33m)\u001b[0m\u001b[1;33m\u001b[0m\u001b[1;33m\u001b[0m\u001b[0m\n\u001b[0;32m      2\u001b[0m \u001b[0mseries\u001b[0m \u001b[1;33m=\u001b[0m \u001b[0msuicide\u001b[0m\u001b[1;33m.\u001b[0m\u001b[0mgroupby\u001b[0m\u001b[1;33m(\u001b[0m\u001b[1;34m'Year'\u001b[0m\u001b[1;33m)\u001b[0m\u001b[1;33m[\u001b[0m\u001b[1;34m'Deaths'\u001b[0m\u001b[1;33m]\u001b[0m\u001b[1;33m.\u001b[0m\u001b[0mmean\u001b[0m\u001b[1;33m(\u001b[0m\u001b[1;33m)\u001b[0m\u001b[1;33m\u001b[0m\u001b[1;33m\u001b[0m\u001b[0m\n\u001b[1;32m----> 3\u001b[1;33m \u001b[0mmodel\u001b[0m \u001b[1;33m=\u001b[0m \u001b[0mARIMA\u001b[0m\u001b[1;33m(\u001b[0m\u001b[0mseries\u001b[0m\u001b[1;33m,\u001b[0m \u001b[0morder\u001b[0m\u001b[1;33m=\u001b[0m\u001b[1;33m{\u001b[0m\u001b[1;36m1\u001b[0m\u001b[1;33m,\u001b[0m\u001b[1;36m1\u001b[0m\u001b[1;33m,\u001b[0m\u001b[1;36m1\u001b[0m\u001b[1;33m}\u001b[0m\u001b[1;33m)\u001b[0m\u001b[1;33m\u001b[0m\u001b[1;33m\u001b[0m\u001b[0m\n\u001b[0m\u001b[0;32m      4\u001b[0m \u001b[0mmodel_fit\u001b[0m \u001b[1;33m=\u001b[0m \u001b[0mmodel\u001b[0m\u001b[1;33m.\u001b[0m\u001b[0mfit\u001b[0m\u001b[1;33m(\u001b[0m\u001b[0mdisp\u001b[0m\u001b[1;33m=\u001b[0m\u001b[1;36m0\u001b[0m\u001b[1;33m)\u001b[0m\u001b[1;33m\u001b[0m\u001b[1;33m\u001b[0m\u001b[0m\n\u001b[0;32m      5\u001b[0m \u001b[1;31m#print(model_fit.summary())\u001b[0m\u001b[1;33m\u001b[0m\u001b[1;33m\u001b[0m\u001b[1;33m\u001b[0m\u001b[0m\n",
      "\u001b[1;32m~\\Project\\lib\\site-packages\\statsmodels\\tsa\\arima_model.py\u001b[0m in \u001b[0;36m__new__\u001b[1;34m(cls, endog, order, exog, dates, freq, missing)\u001b[0m\n\u001b[0;32m   1033\u001b[0m     def __new__(cls, endog, order, exog=None, dates=None, freq=None,\n\u001b[0;32m   1034\u001b[0m                 missing='none'):\n\u001b[1;32m-> 1035\u001b[1;33m         \u001b[0mp\u001b[0m\u001b[1;33m,\u001b[0m \u001b[0md\u001b[0m\u001b[1;33m,\u001b[0m \u001b[0mq\u001b[0m \u001b[1;33m=\u001b[0m \u001b[0morder\u001b[0m\u001b[1;33m\u001b[0m\u001b[1;33m\u001b[0m\u001b[0m\n\u001b[0m\u001b[0;32m   1036\u001b[0m         \u001b[1;32mif\u001b[0m \u001b[0md\u001b[0m \u001b[1;33m==\u001b[0m \u001b[1;36m0\u001b[0m\u001b[1;33m:\u001b[0m  \u001b[1;31m# then we just use an ARMA model\u001b[0m\u001b[1;33m\u001b[0m\u001b[1;33m\u001b[0m\u001b[0m\n\u001b[0;32m   1037\u001b[0m             \u001b[1;32mreturn\u001b[0m \u001b[0mARMA\u001b[0m\u001b[1;33m(\u001b[0m\u001b[0mendog\u001b[0m\u001b[1;33m,\u001b[0m \u001b[1;33m(\u001b[0m\u001b[0mp\u001b[0m\u001b[1;33m,\u001b[0m \u001b[0mq\u001b[0m\u001b[1;33m)\u001b[0m\u001b[1;33m,\u001b[0m \u001b[0mexog\u001b[0m\u001b[1;33m,\u001b[0m \u001b[0mdates\u001b[0m\u001b[1;33m,\u001b[0m \u001b[0mfreq\u001b[0m\u001b[1;33m,\u001b[0m \u001b[0mmissing\u001b[0m\u001b[1;33m)\u001b[0m\u001b[1;33m\u001b[0m\u001b[1;33m\u001b[0m\u001b[0m\n",
      "\u001b[1;31mValueError\u001b[0m: not enough values to unpack (expected 3, got 1)"
     ]
    }
   ],
   "source": [
    "suicide = pd.read_excel('../data/cdc_suicide.xlsx', index_col=4)\n",
    "series = suicide.groupby('Year')['Deaths'].mean()\n",
    "model = ARIMA(series, order=(1,1,1))\n",
    "model_fit = model.fit(disp=0)\n",
    "#print(model_fit.summary())\n",
    "model_fit.plot_predict(dynamic=False)\n",
    "\n",
    "# residuals = pd.DataFrame(model_fit.resid)\n",
    "# residuals.plot.scatter()\n",
    "\n",
    "# density plot of residuals\n",
    "# residuals.plot(kind='kde')\n",
    "\n",
    "# summary stats of residuals\n",
    "# print(residuals.describe())"
   ]
  },
  {
   "cell_type": "code",
   "execution_count": 20,
   "metadata": {},
   "outputs": [
    {
     "name": "stdout",
     "output_type": "stream",
     "text": [
      "Year\n",
      "1999    54.077821\n",
      "2000    52.721805\n",
      "2001    55.504744\n",
      "2002    57.369318\n",
      "2003    56.900000\n",
      "2004    57.895911\n",
      "2005    57.894640\n",
      "2006    59.320370\n",
      "2007    61.060329\n",
      "2008    62.270125\n",
      "2009    63.210247\n",
      "2010    64.602431\n",
      "2011    65.525597\n",
      "2012    66.782095\n",
      "2013    66.991625\n",
      "2014    68.602965\n",
      "2015    69.284566\n",
      "2016    71.061588\n",
      "2017    72.132812\n",
      "2018    75.124204\n",
      "2019    73.011006\n",
      "2020    70.992089\n",
      "Name: Deaths, dtype: float64\n"
     ]
    }
   ],
   "source": [
    "suicide = pd.read_excel('../data/cdc_suicide.xlsx', index_col=4)\n",
    "series = suicide.groupby('Year')['Deaths'].mean()\n",
    "print(series)"
   ]
  }
 ],
 "metadata": {
  "interpreter": {
   "hash": "ac59ebe37160ed0dfa835113d9b8498d9f09ceb179beaac4002f036b9467c963"
  },
  "kernelspec": {
   "display_name": "Python 3.9.6 64-bit",
   "language": "python",
   "name": "python3"
  },
  "language_info": {
   "codemirror_mode": {
    "name": "ipython",
    "version": 3
   },
   "file_extension": ".py",
   "mimetype": "text/x-python",
   "name": "python",
   "nbconvert_exporter": "python",
   "pygments_lexer": "ipython3",
   "version": "3.6.10"
  },
  "orig_nbformat": 4
 },
 "nbformat": 4,
 "nbformat_minor": 2
}
