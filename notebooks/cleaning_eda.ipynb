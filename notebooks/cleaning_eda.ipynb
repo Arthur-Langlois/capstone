{
 "cells": [
  {
   "cell_type": "code",
   "execution_count": 2,
   "id": "f8b5a6e4",
   "metadata": {
    "ExecuteTime": {
     "end_time": "2022-04-01T18:31:20.228430Z",
     "start_time": "2022-04-01T18:31:19.357871Z"
    }
   },
   "outputs": [],
   "source": [
    "import pandas as pd\n",
    "import numpy as np\n",
    "import matplotlib.pyplot as plt\n",
    "import seaborn as sns"
   ]
  },
  {
   "cell_type": "code",
   "execution_count": 8,
   "id": "294bd7fc",
   "metadata": {
    "ExecuteTime": {
     "end_time": "2022-04-01T18:32:51.351043Z",
     "start_time": "2022-04-01T18:32:51.252970Z"
    }
   },
   "outputs": [],
   "source": [
    "df = pd.read_excel('../data/CDC.xlsx')\n",
    "df = df[['State', 'Ten-Year Age Groups', 'Gender', 'Crude Rate', 'Population','Deaths']]"
   ]
  },
  {
   "cell_type": "code",
   "execution_count": 9,
   "id": "9c640dc4",
   "metadata": {
    "ExecuteTime": {
     "end_time": "2022-04-01T18:32:51.411186Z",
     "start_time": "2022-04-01T18:32:51.405329Z"
    }
   },
   "outputs": [
    {
     "data": {
      "text/html": [
       "<div>\n",
       "<style scoped>\n",
       "    .dataframe tbody tr th:only-of-type {\n",
       "        vertical-align: middle;\n",
       "    }\n",
       "\n",
       "    .dataframe tbody tr th {\n",
       "        vertical-align: top;\n",
       "    }\n",
       "\n",
       "    .dataframe thead th {\n",
       "        text-align: right;\n",
       "    }\n",
       "</style>\n",
       "<table border=\"1\" class=\"dataframe\">\n",
       "  <thead>\n",
       "    <tr style=\"text-align: right;\">\n",
       "      <th></th>\n",
       "      <th>State</th>\n",
       "      <th>Ten-Year Age Groups</th>\n",
       "      <th>Gender</th>\n",
       "      <th>Crude Rate</th>\n",
       "      <th>Population</th>\n",
       "      <th>Deaths</th>\n",
       "    </tr>\n",
       "  </thead>\n",
       "  <tbody>\n",
       "    <tr>\n",
       "      <th>0</th>\n",
       "      <td>Alabama</td>\n",
       "      <td>5-14 years</td>\n",
       "      <td>Female</td>\n",
       "      <td>0.5</td>\n",
       "      <td>6696727</td>\n",
       "      <td>32</td>\n",
       "    </tr>\n",
       "    <tr>\n",
       "      <th>1</th>\n",
       "      <td>Alabama</td>\n",
       "      <td>5-14 years</td>\n",
       "      <td>Male</td>\n",
       "      <td>1.3</td>\n",
       "      <td>6996687</td>\n",
       "      <td>90</td>\n",
       "    </tr>\n",
       "    <tr>\n",
       "      <th>2</th>\n",
       "      <td>Alabama</td>\n",
       "      <td>15-24 years</td>\n",
       "      <td>Female</td>\n",
       "      <td>3.5</td>\n",
       "      <td>7161505</td>\n",
       "      <td>249</td>\n",
       "    </tr>\n",
       "    <tr>\n",
       "      <th>3</th>\n",
       "      <td>Alabama</td>\n",
       "      <td>15-24 years</td>\n",
       "      <td>Male</td>\n",
       "      <td>20.5</td>\n",
       "      <td>7290395</td>\n",
       "      <td>1492</td>\n",
       "    </tr>\n",
       "    <tr>\n",
       "      <th>4</th>\n",
       "      <td>Alabama</td>\n",
       "      <td>25-34 years</td>\n",
       "      <td>Female</td>\n",
       "      <td>5.8</td>\n",
       "      <td>6828376</td>\n",
       "      <td>397</td>\n",
       "    </tr>\n",
       "  </tbody>\n",
       "</table>\n",
       "</div>"
      ],
      "text/plain": [
       "     State Ten-Year Age Groups  Gender Crude Rate Population  Deaths\n",
       "0  Alabama          5-14 years  Female        0.5    6696727      32\n",
       "1  Alabama          5-14 years    Male        1.3    6996687      90\n",
       "2  Alabama         15-24 years  Female        3.5    7161505     249\n",
       "3  Alabama         15-24 years    Male       20.5    7290395    1492\n",
       "4  Alabama         25-34 years  Female        5.8    6828376     397"
      ]
     },
     "execution_count": 9,
     "metadata": {},
     "output_type": "execute_result"
    }
   ],
   "source": [
    "df.head()"
   ]
  },
  {
   "cell_type": "code",
   "execution_count": null,
   "id": "dd842a81",
   "metadata": {},
   "outputs": [],
   "source": [
    "sns.lineplot(x = '')"
   ]
  }
 ],
 "metadata": {
  "kernelspec": {
   "display_name": "Python 3 (ipykernel)",
   "language": "python",
   "name": "python3"
  },
  "language_info": {
   "codemirror_mode": {
    "name": "ipython",
    "version": 3
   },
   "file_extension": ".py",
   "mimetype": "text/x-python",
   "name": "python",
   "nbconvert_exporter": "python",
   "pygments_lexer": "ipython3",
   "version": "3.9.10"
  },
  "varInspector": {
   "cols": {
    "lenName": 16,
    "lenType": 16,
    "lenVar": 40
   },
   "kernels_config": {
    "python": {
     "delete_cmd_postfix": "",
     "delete_cmd_prefix": "del ",
     "library": "var_list.py",
     "varRefreshCmd": "print(var_dic_list())"
    },
    "r": {
     "delete_cmd_postfix": ") ",
     "delete_cmd_prefix": "rm(",
     "library": "var_list.r",
     "varRefreshCmd": "cat(var_dic_list()) "
    }
   },
   "types_to_exclude": [
    "module",
    "function",
    "builtin_function_or_method",
    "instance",
    "_Feature"
   ],
   "window_display": false
  }
 },
 "nbformat": 4,
 "nbformat_minor": 5
}
