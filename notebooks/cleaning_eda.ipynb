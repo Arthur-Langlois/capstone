{
 "cells": [
  {
   "cell_type": "code",
   "execution_count": 2,
   "id": "f8b5a6e4",
   "metadata": {
    "ExecuteTime": {
<<<<<<< HEAD
     "end_time": "2022-04-21T19:50:36.891763Z",
     "start_time": "2022-04-21T19:50:34.884230Z"
=======
     "end_time": "2022-04-01T18:31:20.228430Z",
     "start_time": "2022-04-01T18:31:19.357871Z"
>>>>>>> 4ad05a323b4c7c70c39a3263eaebbfc470f3e9cd
    }
   },
   "outputs": [],
   "source": [
    "import pandas as pd\n",
    "import numpy as np\n",
    "import matplotlib.pyplot as plt\n",
    "import seaborn as sns"
   ]
  },
  {
   "cell_type": "code",
<<<<<<< HEAD
   "execution_count": 3,
   "id": "294bd7fc",
   "metadata": {
    "ExecuteTime": {
     "end_time": "2022-04-21T19:50:38.403400Z",
     "start_time": "2022-04-21T19:50:36.895673Z"
=======
   "execution_count": 8,
   "id": "294bd7fc",
   "metadata": {
    "ExecuteTime": {
     "end_time": "2022-04-01T18:32:51.351043Z",
     "start_time": "2022-04-01T18:32:51.252970Z"
>>>>>>> 4ad05a323b4c7c70c39a3263eaebbfc470f3e9cd
    }
   },
   "outputs": [],
   "source": [
    "df = pd.read_excel('../data/CDC.xlsx')\n",
    "df = df[['State', 'Ten-Year Age Groups', 'Gender', 'Crude Rate', 'Population','Deaths']]"
   ]
  },
  {
   "cell_type": "code",
<<<<<<< HEAD
   "execution_count": 5,
   "id": "ad3b1a78",
   "metadata": {
    "ExecuteTime": {
     "end_time": "2022-04-21T19:52:15.420617Z",
     "start_time": "2022-04-21T19:52:15.395105Z"
    }
   },
   "outputs": [
    {
     "data": {
      "text/html": [
       "<div>\n",
       "<style scoped>\n",
       "    .dataframe tbody tr th:only-of-type {\n",
       "        vertical-align: middle;\n",
       "    }\n",
       "\n",
       "    .dataframe tbody tr th {\n",
       "        vertical-align: top;\n",
       "    }\n",
       "\n",
       "    .dataframe thead th {\n",
       "        text-align: right;\n",
       "    }\n",
       "</style>\n",
       "<table border=\"1\" class=\"dataframe\">\n",
       "  <thead>\n",
       "    <tr style=\"text-align: right;\">\n",
       "      <th></th>\n",
       "      <th>State</th>\n",
       "      <th>Year</th>\n",
       "      <th>Ten-Year Age Groups</th>\n",
       "      <th>Gender</th>\n",
       "      <th>Crude Rate</th>\n",
       "      <th>Population</th>\n",
       "      <th>Deaths</th>\n",
       "    </tr>\n",
       "  </thead>\n",
       "  <tbody>\n",
       "    <tr>\n",
       "      <th>0</th>\n",
       "      <td>Alabama</td>\n",
       "      <td>2017</td>\n",
       "      <td>5-14 years</td>\n",
       "      <td>Male</td>\n",
       "      <td>Unreliable</td>\n",
       "      <td>311004</td>\n",
       "      <td>11</td>\n",
       "    </tr>\n",
       "    <tr>\n",
       "      <th>1</th>\n",
       "      <td>Alabama</td>\n",
       "      <td>2019</td>\n",
       "      <td>5-14 years</td>\n",
       "      <td>Male</td>\n",
       "      <td>Unreliable</td>\n",
       "      <td>310145</td>\n",
       "      <td>10</td>\n",
       "    </tr>\n",
       "    <tr>\n",
       "      <th>407</th>\n",
       "      <td>Arizona</td>\n",
       "      <td>2017</td>\n",
       "      <td>5-14 years</td>\n",
       "      <td>Male</td>\n",
       "      <td>Unreliable</td>\n",
       "      <td>467211</td>\n",
       "      <td>11</td>\n",
       "    </tr>\n",
       "    <tr>\n",
       "      <th>408</th>\n",
       "      <td>Arizona</td>\n",
       "      <td>2018</td>\n",
       "      <td>5-14 years</td>\n",
       "      <td>Male</td>\n",
       "      <td>Unreliable</td>\n",
       "      <td>473089</td>\n",
       "      <td>13</td>\n",
       "    </tr>\n",
       "    <tr>\n",
       "      <th>409</th>\n",
       "      <td>Arizona</td>\n",
       "      <td>2020</td>\n",
       "      <td>5-14 years</td>\n",
       "      <td>Male</td>\n",
       "      <td>Unreliable</td>\n",
       "      <td>477682</td>\n",
       "      <td>12</td>\n",
       "    </tr>\n",
       "    <tr>\n",
       "      <th>...</th>\n",
       "      <td>...</td>\n",
       "      <td>...</td>\n",
       "      <td>...</td>\n",
       "      <td>...</td>\n",
       "      <td>...</td>\n",
       "      <td>...</td>\n",
       "      <td>...</td>\n",
       "    </tr>\n",
       "    <tr>\n",
       "      <th>10736</th>\n",
       "      <td>Texas</td>\n",
       "      <td>2020</td>\n",
       "      <td>5-14 years</td>\n",
       "      <td>Male</td>\n",
       "      <td>1.8</td>\n",
       "      <td>2145003</td>\n",
       "      <td>39</td>\n",
       "    </tr>\n",
       "    <tr>\n",
       "      <th>11069</th>\n",
       "      <td>Utah</td>\n",
       "      <td>2015</td>\n",
       "      <td>5-14 years</td>\n",
       "      <td>Male</td>\n",
       "      <td>Unreliable</td>\n",
       "      <td>265200</td>\n",
       "      <td>11</td>\n",
       "    </tr>\n",
       "    <tr>\n",
       "      <th>11070</th>\n",
       "      <td>Utah</td>\n",
       "      <td>2018</td>\n",
       "      <td>5-14 years</td>\n",
       "      <td>Male</td>\n",
       "      <td>Unreliable</td>\n",
       "      <td>270098</td>\n",
       "      <td>10</td>\n",
       "    </tr>\n",
       "    <tr>\n",
       "      <th>11410</th>\n",
       "      <td>Virginia</td>\n",
       "      <td>2020</td>\n",
       "      <td>5-14 years</td>\n",
       "      <td>Male</td>\n",
       "      <td>Unreliable</td>\n",
       "      <td>535003</td>\n",
       "      <td>15</td>\n",
       "    </tr>\n",
       "    <tr>\n",
       "      <th>11721</th>\n",
       "      <td>Washington</td>\n",
       "      <td>2020</td>\n",
       "      <td>5-14 years</td>\n",
       "      <td>Male</td>\n",
       "      <td>Unreliable</td>\n",
       "      <td>482459</td>\n",
       "      <td>12</td>\n",
       "    </tr>\n",
       "  </tbody>\n",
       "</table>\n",
       "<p>169 rows × 7 columns</p>\n",
       "</div>"
      ],
      "text/plain": [
       "            State  Year Ten-Year Age Groups Gender  Crude Rate  Population  \\\n",
       "0         Alabama  2017          5-14 years   Male  Unreliable      311004   \n",
       "1         Alabama  2019          5-14 years   Male  Unreliable      310145   \n",
       "407       Arizona  2017          5-14 years   Male  Unreliable      467211   \n",
       "408       Arizona  2018          5-14 years   Male  Unreliable      473089   \n",
       "409       Arizona  2020          5-14 years   Male  Unreliable      477682   \n",
       "...           ...   ...                 ...    ...         ...         ...   \n",
       "10736       Texas  2020          5-14 years   Male         1.8     2145003   \n",
       "11069        Utah  2015          5-14 years   Male  Unreliable      265200   \n",
       "11070        Utah  2018          5-14 years   Male  Unreliable      270098   \n",
       "11410    Virginia  2020          5-14 years   Male  Unreliable      535003   \n",
       "11721  Washington  2020          5-14 years   Male  Unreliable      482459   \n",
       "\n",
       "       Deaths  \n",
       "0          11  \n",
       "1          10  \n",
       "407        11  \n",
       "408        13  \n",
       "409        12  \n",
       "...       ...  \n",
       "10736      39  \n",
       "11069      11  \n",
       "11070      10  \n",
       "11410      15  \n",
       "11721      12  \n",
       "\n",
       "[169 rows x 7 columns]"
      ]
     },
     "execution_count": 5,
     "metadata": {},
     "output_type": "execute_result"
    }
   ],
   "source": [
    "df[(df['Ten-Year Age Groups'] == '5-14 years') | (df['Ten-Year Age Groups'] == '5-14 years')]"
   ]
  },
  {
   "cell_type": "code",
   "execution_count": 3,
=======
   "execution_count": 9,
>>>>>>> 4ad05a323b4c7c70c39a3263eaebbfc470f3e9cd
   "id": "9c640dc4",
   "metadata": {
    "ExecuteTime": {
     "end_time": "2022-04-01T18:32:51.411186Z",
     "start_time": "2022-04-01T18:32:51.405329Z"
    }
   },
   "outputs": [
    {
     "data": {
      "text/html": [
       "<div>\n",
       "<style scoped>\n",
       "    .dataframe tbody tr th:only-of-type {\n",
       "        vertical-align: middle;\n",
       "    }\n",
       "\n",
       "    .dataframe tbody tr th {\n",
       "        vertical-align: top;\n",
       "    }\n",
       "\n",
       "    .dataframe thead th {\n",
       "        text-align: right;\n",
       "    }\n",
       "</style>\n",
       "<table border=\"1\" class=\"dataframe\">\n",
       "  <thead>\n",
       "    <tr style=\"text-align: right;\">\n",
       "      <th></th>\n",
       "      <th>State</th>\n",
       "      <th>Ten-Year Age Groups</th>\n",
       "      <th>Gender</th>\n",
       "      <th>Crude Rate</th>\n",
       "      <th>Population</th>\n",
       "      <th>Deaths</th>\n",
       "    </tr>\n",
       "  </thead>\n",
       "  <tbody>\n",
       "    <tr>\n",
       "      <th>0</th>\n",
       "      <td>Alabama</td>\n",
       "      <td>5-14 years</td>\n",
       "      <td>Female</td>\n",
       "      <td>0.5</td>\n",
       "      <td>6696727</td>\n",
       "      <td>32</td>\n",
       "    </tr>\n",
       "    <tr>\n",
       "      <th>1</th>\n",
       "      <td>Alabama</td>\n",
       "      <td>5-14 years</td>\n",
       "      <td>Male</td>\n",
       "      <td>1.3</td>\n",
       "      <td>6996687</td>\n",
       "      <td>90</td>\n",
       "    </tr>\n",
       "    <tr>\n",
       "      <th>2</th>\n",
       "      <td>Alabama</td>\n",
       "      <td>15-24 years</td>\n",
       "      <td>Female</td>\n",
       "      <td>3.5</td>\n",
       "      <td>7161505</td>\n",
       "      <td>249</td>\n",
       "    </tr>\n",
       "    <tr>\n",
       "      <th>3</th>\n",
       "      <td>Alabama</td>\n",
       "      <td>15-24 years</td>\n",
       "      <td>Male</td>\n",
       "      <td>20.5</td>\n",
       "      <td>7290395</td>\n",
       "      <td>1492</td>\n",
       "    </tr>\n",
       "    <tr>\n",
       "      <th>4</th>\n",
       "      <td>Alabama</td>\n",
       "      <td>25-34 years</td>\n",
       "      <td>Female</td>\n",
       "      <td>5.8</td>\n",
       "      <td>6828376</td>\n",
       "      <td>397</td>\n",
       "    </tr>\n",
       "  </tbody>\n",
       "</table>\n",
       "</div>"
      ],
      "text/plain": [
       "     State Ten-Year Age Groups  Gender Crude Rate Population  Deaths\n",
       "0  Alabama          5-14 years  Female        0.5    6696727      32\n",
       "1  Alabama          5-14 years    Male        1.3    6996687      90\n",
       "2  Alabama         15-24 years  Female        3.5    7161505     249\n",
       "3  Alabama         15-24 years    Male       20.5    7290395    1492\n",
       "4  Alabama         25-34 years  Female        5.8    6828376     397"
      ]
     },
     "execution_count": 9,
     "metadata": {},
     "output_type": "execute_result"
    }
   ],
   "source": [
    "df.head()"
   ]
  },
  {
   "cell_type": "code",
   "execution_count": null,
   "id": "dd842a81",
   "metadata": {},
   "outputs": [],
   "source": [
    "sns.lineplot(x = '')"
   ]
  }
 ],
 "metadata": {
  "kernelspec": {
   "display_name": "Python 3 (ipykernel)",
   "language": "python",
   "name": "python3"
  },
  "language_info": {
   "codemirror_mode": {
    "name": "ipython",
    "version": 3
   },
   "file_extension": ".py",
   "mimetype": "text/x-python",
   "name": "python",
   "nbconvert_exporter": "python",
   "pygments_lexer": "ipython3",
   "version": "3.9.10"
  },
  "varInspector": {
   "cols": {
    "lenName": 16,
    "lenType": 16,
    "lenVar": 40
   },
   "kernels_config": {
    "python": {
     "delete_cmd_postfix": "",
     "delete_cmd_prefix": "del ",
     "library": "var_list.py",
     "varRefreshCmd": "print(var_dic_list())"
    },
    "r": {
     "delete_cmd_postfix": ") ",
     "delete_cmd_prefix": "rm(",
     "library": "var_list.r",
     "varRefreshCmd": "cat(var_dic_list()) "
    }
   },
   "types_to_exclude": [
    "module",
    "function",
    "builtin_function_or_method",
    "instance",
    "_Feature"
   ],
   "window_display": false
  }
 },
 "nbformat": 4,
 "nbformat_minor": 5
}
