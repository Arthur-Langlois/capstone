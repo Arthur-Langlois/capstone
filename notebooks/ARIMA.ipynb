{
 "cells": [
  {
   "cell_type": "code",
   "execution_count": 1,
   "metadata": {},
   "outputs": [],
   "source": [
    "import pandas as pd\n",
    "import numpy as np\n",
    "import datetime as dt\n",
    "import matplotlib.pyplot as plt\n",
    "from matplotlib.pylab import rcParams\n",
    "rcParams['figure.figsize'] = 10, 6"
   ]
  },
  {
   "cell_type": "code",
   "execution_count": 4,
   "metadata": {},
   "outputs": [
    {
     "name": "stdout",
     "output_type": "stream",
     "text": [
      "        State  State Code Ten-Year Age Groups Ten-Year Age Groups Code  \\\n",
      "Year                                                                     \n",
      "2017  Alabama           1          5-14 years      2022-05-14 00:00:00   \n",
      "2019  Alabama           1          5-14 years      2022-05-14 00:00:00   \n",
      "1999  Alabama           1         15-24 years                    15-24   \n",
      "1999  Alabama           1         15-24 years                    15-24   \n",
      "2000  Alabama           1         15-24 years                    15-24   \n",
      "...       ...         ...                 ...                      ...   \n",
      "2020  Wyoming          56         65-74 years                    65-74   \n",
      "2002  Wyoming          56         75-84 years                    75-84   \n",
      "2015  Wyoming          56         75-84 years                    75-84   \n",
      "2019  Wyoming          56         75-84 years                    75-84   \n",
      "2020  Wyoming          56         75-84 years                    75-84   \n",
      "\n",
      "      Year Code  Gender Gender Code  Deaths  Population  Crude Rate  \n",
      "Year                                                                 \n",
      "2017       2017    Male           M      11      311004  Unreliable  \n",
      "2019       2019    Male           M      10      310145  Unreliable  \n",
      "1999       1999  Female           F      13      316324  Unreliable  \n",
      "1999       1999    Male           M      76      317647        23.9  \n",
      "2000       2000    Male           M      63      316220        19.9  \n",
      "...         ...     ...         ...     ...         ...         ...  \n",
      "2020       2020    Male           M      19       32197  Unreliable  \n",
      "2002       2002    Male           M      11        8768  Unreliable  \n",
      "2015       2015    Male           M      16       10875  Unreliable  \n",
      "2019       2019    Male           M      12       13013  Unreliable  \n",
      "2020       2020    Male           M      12       13737  Unreliable  \n",
      "\n",
      "[12655 rows x 10 columns]\n"
     ]
    }
   ],
   "source": [
    "suicide = pd.read_excel('../data/cdc_suicide.xlsx', index_col=4)\n",
    "print(suicide)\n",
    "# suicide['Year'] = pd.to_datetime(suicide['Year'], infer_datetime_format=True)\n",
    "# indexedSuicide = suicide.set_index(['Year'])"
   ]
  }
 ],
 "metadata": {
  "interpreter": {
   "hash": "ac59ebe37160ed0dfa835113d9b8498d9f09ceb179beaac4002f036b9467c963"
  },
  "kernelspec": {
   "display_name": "Python 3.9.6 64-bit",
   "language": "python",
   "name": "python3"
  },
  "language_info": {
   "codemirror_mode": {
    "name": "ipython",
    "version": 3
   },
   "file_extension": ".py",
   "mimetype": "text/x-python",
   "name": "python",
   "nbconvert_exporter": "python",
   "pygments_lexer": "ipython3",
   "version": "3.6.10"
  },
  "orig_nbformat": 4
 },
 "nbformat": 4,
 "nbformat_minor": 2
}
